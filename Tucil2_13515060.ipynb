{
 "cells": [
  {
   "cell_type": "markdown",
   "metadata": {},
   "source": [
    "## IF 3170 Intelegensia Buatan\n",
    "\n",
    "### Tugas Kecil II: Eksplorasi scikit-learn pada Jupyter Notebook\n",
    "\n",
    "### Anggota\n",
    "1. 13515060 - Fajar Nugroho\n",
    "2. 13515069 - Hisham Lazuardi Yusuf\n",
    "\n",
    "### Deskripsi Tugas\n",
    "\n",
    "1. Lakukan eksplorasi scikit learn pada Jupiter Netbook dan bacalah dokumentasinya: [Jupyter Notebook](https://jupyter-notebook.readthedocs.io/en/stable/notebook.html) dan [Scikit-Learn](http://scikit-learn.org/stable/documentation.html)\n",
    "\n",
    "2. Tulislah script dalam bahasa python pada satu notebook untuk melakukan task berikut ini:\n",
    "\n",
    ">a. Membaca dataset standar iris dan dataset play-tennis (dataset eksternal dalam format csv). \n",
    "Gunakanlah sklearn.datasets untuk membaca dataset standar.\n",
    "Untuk membaca dataset csv, gunakanlah Python Data Analysis Library [Pandas](http://pandas.pydata.org/)\n",
    "\n",
    ">b. Melakukan pembelajaran: \n",
    "[NaiveBayes](http://scikit-learn.org/stable/modules/naive_bayes.html ), \n",
    "[DecisionTree ID3](http://scikit-learn.org/stable/modules/tree.html ), \n",
    "[kNN](http://scikit-learn.org/stable/modules/neighbors.html ), dan\n",
    "[Neural Network MLP](http://scikit-learn.org/stable/modules/neural_networks_supervised.html ) \n",
    "untuk dataset iris dengan skema full-training, dan menampilkan modelnya.\n",
    "\n",
    ">c. Melakukan pembelajaran NaïveBayes, DecisionTree, kNN, dan MLP untuk dataset iris dengan skema split train 90% dan test 10%, dan menampilkan kinerja serta confusion matrixnya.\n",
    "\n",
    ">d. Melakukan pembelajaran NaïveBayes, DecisionTree, kNN, dan MLP untuk dataset iris dengan skema 10-fold cross validation, dan menampilkan kinerjanya.\n",
    "\n",
    ">e. Menyimpan (save) model/hipotesis hasil pembelajaran ke sebuah file eksternal\n",
    "\n",
    ">f. Membaca (read) model/hipotesis dari file eksternal\n",
    "\n",
    ">g. Membuat instance baru dengan memberi nilai untuk setiap atribut\n",
    "\n",
    ">h. Melakukan klasifikasi dengan memanfaatkan model/hipotesis NaïveBayes, DecisionTree, dan kNN dan instance pada g.\n"
   ]
  },
  {
   "cell_type": "code",
   "execution_count": 17,
   "metadata": {
    "collapsed": true
   },
   "outputs": [
    {
     "name": "stdout",
     "output_type": "stream",
     "text": [
      "[[ 5.1  3.5  1.4  0.2]\n",
      " [ 4.9  3.   1.4  0.2]\n",
      " [ 4.7  3.2  1.3  0.2]\n",
      " [ 4.6  3.1  1.5  0.2]\n",
      " [ 5.   3.6  1.4  0.2]\n",
      " [ 5.4  3.9  1.7  0.4]\n",
      " [ 4.6  3.4  1.4  0.3]\n",
      " [ 5.   3.4  1.5  0.2]\n",
      " [ 4.4  2.9  1.4  0.2]\n",
      " [ 4.9  3.1  1.5  0.1]\n",
      " [ 5.4  3.7  1.5  0.2]\n",
      " [ 4.8  3.4  1.6  0.2]\n",
      " [ 4.8  3.   1.4  0.1]\n",
      " [ 4.3  3.   1.1  0.1]\n",
      " [ 5.8  4.   1.2  0.2]\n",
      " [ 5.7  4.4  1.5  0.4]\n",
      " [ 5.4  3.9  1.3  0.4]\n",
      " [ 5.1  3.5  1.4  0.3]\n",
      " [ 5.7  3.8  1.7  0.3]\n",
      " [ 5.1  3.8  1.5  0.3]\n",
      " [ 5.4  3.4  1.7  0.2]\n",
      " [ 5.1  3.7  1.5  0.4]\n",
      " [ 4.6  3.6  1.   0.2]\n",
      " [ 5.1  3.3  1.7  0.5]\n",
      " [ 4.8  3.4  1.9  0.2]\n",
      " [ 5.   3.   1.6  0.2]\n",
      " [ 5.   3.4  1.6  0.4]\n",
      " [ 5.2  3.5  1.5  0.2]\n",
      " [ 5.2  3.4  1.4  0.2]\n",
      " [ 4.7  3.2  1.6  0.2]\n",
      " [ 4.8  3.1  1.6  0.2]\n",
      " [ 5.4  3.4  1.5  0.4]\n",
      " [ 5.2  4.1  1.5  0.1]\n",
      " [ 5.5  4.2  1.4  0.2]\n",
      " [ 4.9  3.1  1.5  0.1]\n",
      " [ 5.   3.2  1.2  0.2]\n",
      " [ 5.5  3.5  1.3  0.2]\n",
      " [ 4.9  3.1  1.5  0.1]\n",
      " [ 4.4  3.   1.3  0.2]\n",
      " [ 5.1  3.4  1.5  0.2]\n",
      " [ 5.   3.5  1.3  0.3]\n",
      " [ 4.5  2.3  1.3  0.3]\n",
      " [ 4.4  3.2  1.3  0.2]\n",
      " [ 5.   3.5  1.6  0.6]\n",
      " [ 5.1  3.8  1.9  0.4]\n",
      " [ 4.8  3.   1.4  0.3]\n",
      " [ 5.1  3.8  1.6  0.2]\n",
      " [ 4.6  3.2  1.4  0.2]\n",
      " [ 5.3  3.7  1.5  0.2]\n",
      " [ 5.   3.3  1.4  0.2]\n",
      " [ 7.   3.2  4.7  1.4]\n",
      " [ 6.4  3.2  4.5  1.5]\n",
      " [ 6.9  3.1  4.9  1.5]\n",
      " [ 5.5  2.3  4.   1.3]\n",
      " [ 6.5  2.8  4.6  1.5]\n",
      " [ 5.7  2.8  4.5  1.3]\n",
      " [ 6.3  3.3  4.7  1.6]\n",
      " [ 4.9  2.4  3.3  1. ]\n",
      " [ 6.6  2.9  4.6  1.3]\n",
      " [ 5.2  2.7  3.9  1.4]\n",
      " [ 5.   2.   3.5  1. ]\n",
      " [ 5.9  3.   4.2  1.5]\n",
      " [ 6.   2.2  4.   1. ]\n",
      " [ 6.1  2.9  4.7  1.4]\n",
      " [ 5.6  2.9  3.6  1.3]\n",
      " [ 6.7  3.1  4.4  1.4]\n",
      " [ 5.6  3.   4.5  1.5]\n",
      " [ 5.8  2.7  4.1  1. ]\n",
      " [ 6.2  2.2  4.5  1.5]\n",
      " [ 5.6  2.5  3.9  1.1]\n",
      " [ 5.9  3.2  4.8  1.8]\n",
      " [ 6.1  2.8  4.   1.3]\n",
      " [ 6.3  2.5  4.9  1.5]\n",
      " [ 6.1  2.8  4.7  1.2]\n",
      " [ 6.4  2.9  4.3  1.3]\n",
      " [ 6.6  3.   4.4  1.4]\n",
      " [ 6.8  2.8  4.8  1.4]\n",
      " [ 6.7  3.   5.   1.7]\n",
      " [ 6.   2.9  4.5  1.5]\n",
      " [ 5.7  2.6  3.5  1. ]\n",
      " [ 5.5  2.4  3.8  1.1]\n",
      " [ 5.5  2.4  3.7  1. ]\n",
      " [ 5.8  2.7  3.9  1.2]\n",
      " [ 6.   2.7  5.1  1.6]\n",
      " [ 5.4  3.   4.5  1.5]\n",
      " [ 6.   3.4  4.5  1.6]\n",
      " [ 6.7  3.1  4.7  1.5]\n",
      " [ 6.3  2.3  4.4  1.3]\n",
      " [ 5.6  3.   4.1  1.3]\n",
      " [ 5.5  2.5  4.   1.3]\n",
      " [ 5.5  2.6  4.4  1.2]\n",
      " [ 6.1  3.   4.6  1.4]\n",
      " [ 5.8  2.6  4.   1.2]\n",
      " [ 5.   2.3  3.3  1. ]\n",
      " [ 5.6  2.7  4.2  1.3]\n",
      " [ 5.7  3.   4.2  1.2]\n",
      " [ 5.7  2.9  4.2  1.3]\n",
      " [ 6.2  2.9  4.3  1.3]\n",
      " [ 5.1  2.5  3.   1.1]\n",
      " [ 5.7  2.8  4.1  1.3]\n",
      " [ 6.3  3.3  6.   2.5]\n",
      " [ 5.8  2.7  5.1  1.9]\n",
      " [ 7.1  3.   5.9  2.1]\n",
      " [ 6.3  2.9  5.6  1.8]\n",
      " [ 6.5  3.   5.8  2.2]\n",
      " [ 7.6  3.   6.6  2.1]\n",
      " [ 4.9  2.5  4.5  1.7]\n",
      " [ 7.3  2.9  6.3  1.8]\n",
      " [ 6.7  2.5  5.8  1.8]\n",
      " [ 7.2  3.6  6.1  2.5]\n",
      " [ 6.5  3.2  5.1  2. ]\n",
      " [ 6.4  2.7  5.3  1.9]\n",
      " [ 6.8  3.   5.5  2.1]\n",
      " [ 5.7  2.5  5.   2. ]\n",
      " [ 5.8  2.8  5.1  2.4]\n",
      " [ 6.4  3.2  5.3  2.3]\n",
      " [ 6.5  3.   5.5  1.8]\n",
      " [ 7.7  3.8  6.7  2.2]\n",
      " [ 7.7  2.6  6.9  2.3]\n",
      " [ 6.   2.2  5.   1.5]\n",
      " [ 6.9  3.2  5.7  2.3]\n",
      " [ 5.6  2.8  4.9  2. ]\n",
      " [ 7.7  2.8  6.7  2. ]\n",
      " [ 6.3  2.7  4.9  1.8]\n",
      " [ 6.7  3.3  5.7  2.1]\n",
      " [ 7.2  3.2  6.   1.8]\n",
      " [ 6.2  2.8  4.8  1.8]\n",
      " [ 6.1  3.   4.9  1.8]\n",
      " [ 6.4  2.8  5.6  2.1]\n",
      " [ 7.2  3.   5.8  1.6]\n",
      " [ 7.4  2.8  6.1  1.9]\n",
      " [ 7.9  3.8  6.4  2. ]\n",
      " [ 6.4  2.8  5.6  2.2]\n",
      " [ 6.3  2.8  5.1  1.5]\n",
      " [ 6.1  2.6  5.6  1.4]\n",
      " [ 7.7  3.   6.1  2.3]\n",
      " [ 6.3  3.4  5.6  2.4]\n",
      " [ 6.4  3.1  5.5  1.8]\n",
      " [ 6.   3.   4.8  1.8]\n",
      " [ 6.9  3.1  5.4  2.1]\n",
      " [ 6.7  3.1  5.6  2.4]\n",
      " [ 6.9  3.1  5.1  2.3]\n",
      " [ 5.8  2.7  5.1  1.9]\n",
      " [ 6.8  3.2  5.9  2.3]\n",
      " [ 6.7  3.3  5.7  2.5]\n",
      " [ 6.7  3.   5.2  2.3]\n",
      " [ 6.3  2.5  5.   1.9]\n",
      " [ 6.5  3.   5.2  2. ]\n",
      " [ 6.2  3.4  5.4  2.3]\n",
      " [ 5.9  3.   5.1  1.8]]\n",
      "     outlook temperature humidity    wind playtennis\n",
      "0      sunny         hot     high    weak         no\n",
      "1      sunny         hot     high  strong         no\n",
      "2   overcast         hot     high    weak        yes\n",
      "3       rain        mild     high    weak        yes\n",
      "4       rain        cool   normal    weak        yes\n",
      "5       rain        cool   normal  strong         no\n",
      "6   overcast        cool   normal  strong        yes\n",
      "7      sunny        mild     high    weak         no\n",
      "8      sunny        cool   normal    weak        yes\n",
      "9       rain        mild   normal    weak        yes\n",
      "10     sunny        mild   normal  strong        yes\n",
      "11  overcast        mild     high  strong        yes\n",
      "12  overcast         hot   normal    weak        yes\n",
      "13      rain        mild     high  strong         no\n"
     ]
    }
   ],
   "source": [
    "from sklearn import datasets\n",
    "import pandas as pd\n",
    "\n",
    "# A. Membaca Dataset Iris dan Playtennis\n",
    "\n",
    "iris = datasets.load_iris()\n",
    "reader = pd.read_csv('playtennis.csv')\n",
    "\n",
    "print iris.data\n",
    "\n",
    "print reader"
   ]
  },
  {
   "cell_type": "code",
   "execution_count": 11,
   "metadata": {},
   "outputs": [],
   "source": [
    "from sklearn import datasets\n",
    "from sklearn.naive_bayes import GaussianNB\n",
    "\n",
    "# B-1. Gaussian Naive Bayes (Naive Bayes) Skema full training\n",
    "\n",
    "iris = datasets.load_iris()\n",
    "gnb = GaussianNB()\n",
    "#Training using naive bayes\n",
    "fit1_gnb = gnb.fit(iris.data, iris.target)\n",
    "y_predict = fit1_gnb.predict(iris.data)\n",
    "\n",
    "#Visualisasi data model\n"
   ]
  },
  {
   "cell_type": "code",
   "execution_count": 4,
   "metadata": {},
   "outputs": [
    {
     "data": {
      "text/plain": [
       "array([0, 0, 0, 0, 0, 0, 0, 0, 0, 0, 0, 0, 0, 0, 0, 0, 0, 0, 0, 0, 0, 0, 0,\n",
       "       0, 0, 0, 0, 0, 0, 0, 0, 0, 0, 0, 0, 0, 0, 0, 0, 0, 0, 0, 0, 0, 0, 0,\n",
       "       0, 0, 0, 0, 1, 1, 1, 1, 1, 1, 1, 1, 1, 1, 1, 1, 1, 1, 1, 1, 1, 1, 1,\n",
       "       1, 1, 1, 1, 1, 1, 1, 1, 1, 1, 1, 1, 1, 1, 1, 1, 1, 1, 1, 1, 1, 1, 1,\n",
       "       1, 1, 1, 1, 1, 1, 1, 1, 2, 2, 2, 2, 2, 2, 2, 2, 2, 2, 2, 2, 2, 2, 2,\n",
       "       2, 2, 2, 2, 2, 2, 2, 2, 2, 2, 2, 2, 2, 2, 2, 2, 2, 2, 2, 2, 2, 2, 2,\n",
       "       2, 2, 2, 2, 2, 2, 2, 2, 2, 2, 2, 2])"
      ]
     },
     "execution_count": 4,
     "metadata": {},
     "output_type": "execute_result"
    }
   ],
   "source": [
    "from sklearn import datasets\n",
    "from sklearn import tree\n",
    "# import graphviz\n",
    "# import tempfile\n",
    "\n",
    "# B-2. Decision Tree Skema full training\n",
    "\n",
    "iris = datasets.load_iris()\n",
    "# import data training (90% from total)\n",
    "X = iris.data\n",
    "Y = iris.target\n",
    "clf = tree.DecisionTreeClassifier()\n",
    "clf2 = clf.fit(X, Y)\n",
    "clf2.predict(X)\n",
    "\n",
    "#visualisasi data model\n",
    "# dot_data = tree.export_graphviz(clf, out_file=None, \n",
    "#                          feature_names=iris.feature_names,  \n",
    "#                          class_names=iris.target_names,  \n",
    "#                          filled=True, rounded=True,  \n",
    "#                          special_characters=True)\n",
    "# graph = graphviz.Source(dot_data)\n",
    "#graph.view()\n",
    "#graph.view(tempfile.mktemp('.gv'))"
   ]
  },
  {
   "cell_type": "code",
   "execution_count": 6,
   "metadata": {},
   "outputs": [
    {
     "name": "stdout",
     "output_type": "stream",
     "text": [
      "0.966666666667\n"
     ]
    }
   ],
   "source": [
    "from sklearn.neighbors import KNeighborsClassifier\n",
    "from sklearn import datasets\n",
    "iris = datasets.load_iris()\n",
    "\n",
    "# B-3. kNN Skema full training\n",
    "X = iris.data \n",
    "y = iris.target\n",
    "# mendefinisikan KNN classifier n_neighbors=5 (default)\n",
    "neigh3 = KNeighborsClassifier() \n",
    "# fit data dengan target\n",
    "neigh3.fit(X, y)\n",
    "neigh3.predict(X)\n",
    "print(neigh3.score(X,y))"
   ]
  },
  {
   "cell_type": "code",
   "execution_count": 8,
   "metadata": {
    "collapsed": true
   },
   "outputs": [
    {
     "data": {
      "image/png": "[encoded data removed]",
      "text/plain": [
       "<matplotlib.figure.Figure at 0x19786dd8>"
      ]
     },
     "metadata": {},
     "output_type": "display_data"
    }
   ],
   "source": [
    "from sklearn import datasets\n",
    "from sklearn.neural_network import MLPClassifier\n",
    "import matplotlib.pyplot as plt\n",
    "\n",
    "# B-4. Neural Network MLP Skema full training\n",
    "\n",
    "iris = datasets.load_iris()\n",
    "clf = MLPClassifier(solver='lbfgs', alpha=1e-5, hidden_layer_sizes=(10,), random_state=1)\n",
    "fit4_MLP = clf.fit(iris.data, iris.target)\n",
    "y_predict = fit4_MLP.predict(iris.data)\n",
    "\n",
    "#Visualisasi model\n",
    "fig, axes = plt.subplots(4,4)\n",
    "vmin, vmax = clf.coefs_[0].min(), clf.coefs_[0].max()\n",
    "for coef, ax in zip(clf.coefs_[0].T, axes.ravel()):\n",
    "    ax.matshow(coef.reshape(1,4), cmap=plt.cm.gray, vmin=.5 * vmin, vmax=.5 * vmax)\n",
    "    ax.set_xticks(())\n",
    "    ax.set_yticks(())\n",
    "    \n",
    "plt.show()"
   ]
  },
  {
   "cell_type": "code",
   "execution_count": 18,
   "metadata": {
    "collapsed": true
   },
   "outputs": [
    {
     "name": "stdout",
     "output_type": "stream",
     "text": [
      "Score = 1.0\n",
      "\n",
      "Confusion matrix, without normalization\n",
      "[[15]]\n",
      "Normalized confusion matrix\n",
      "[[ 1.]]\n"
     ]
    },
    {
     "data": {
      "image/png": "[encoded data removed]",
      "text/plain": [
       "<matplotlib.figure.Figure at 0x1effcba8>"
      ]
     },
     "metadata": {},
     "output_type": "display_data"
    },
    {
     "data": {
      "image/png": "[encoded data removed]",
      "text/plain": [
       "<matplotlib.figure.Figure at 0x1f007e48>"
      ]
     },
     "metadata": {},
     "output_type": "display_data"
    }
   ],
   "source": [
    "import itertools\n",
    "import numpy as np\n",
    "import matplotlib.pyplot as plt\n",
    "from sklearn import datasets\n",
    "from sklearn.metrics import confusion_matrix\n",
    "from sklearn.naive_bayes import GaussianNB\n",
    "\n",
    "# C-1. Gaussian Naive Bayes (Naive Bayes) Skema split train 90% test 10%\n",
    "\n",
    "def plot_confusion_matrix(cm, classes,\n",
    "                          normalize=False,\n",
    "                          title='Confusion matrix',\n",
    "                          cmap=plt.cm.Blues):\n",
    "    \"\"\"\n",
    "    This function prints and plots the confusion matrix.\n",
    "    Normalization can be applied by setting `normalize=True`.\n",
    "    \"\"\"\n",
    "    if normalize:\n",
    "        cm = cm.astype('float') / cm.sum(axis=1)[:, np.newaxis]\n",
    "        print(\"Normalized confusion matrix\")\n",
    "    else:\n",
    "        print('Confusion matrix, without normalization')\n",
    "\n",
    "    print(cm)\n",
    "\n",
    "    plt.imshow(cm, interpolation='nearest', cmap=cmap)\n",
    "    plt.title(title)\n",
    "    plt.colorbar()\n",
    "    tick_marks = np.arange(len(classes))\n",
    "    plt.xticks(tick_marks, classes, rotation=45)\n",
    "    plt.yticks(tick_marks, classes)\n",
    "\n",
    "    fmt = '.2f' if normalize else 'd'\n",
    "    thresh = cm.max() / 2.\n",
    "    for i, j in itertools.product(range(cm.shape[0]), range(cm.shape[1])):\n",
    "        plt.text(j, i, format(cm[i, j], fmt),\n",
    "                 horizontalalignment=\"center\",\n",
    "                 color=\"white\" if cm[i, j] > thresh else \"black\")\n",
    "\n",
    "    plt.tight_layout()\n",
    "    plt.ylabel('True label')\n",
    "    plt.xlabel('Predicted label')\n",
    "\n",
    "#Import data\n",
    "#Gaussian Naive Bayes (Naive Bayes)\n",
    "#Skema 90% train, 10% test\n",
    "iris = datasets.load_iris()\n",
    "gnb = GaussianNB()\n",
    "class_names = iris.target_names\n",
    "\n",
    "#Training using naive bayes\n",
    "X_train = iris.data[0:135]\n",
    "y_train = iris.target[0:135]\n",
    "X_test = iris.data[135:150]\n",
    "y_test = iris.target[135:150]\n",
    "\n",
    "y_predict = gnb.fit(X_train, y_train).predict(X_test)\n",
    "\n",
    "print('Score = %s\\n' % (gnb.fit(X_train, y_train).score(X_test, y_test)))\n",
    "#print(gnb.fit(X_train, y_train).score(X_test, y_test))\n",
    "\n",
    "cnf_matrix = confusion_matrix(y_test, y_predict)\n",
    "np.set_printoptions(precision=2)\n",
    "\n",
    "# Plot non-normalized confusion matrix\n",
    "plt.figure()\n",
    "plot_confusion_matrix(cnf_matrix, classes=class_names,\n",
    "                      title='Confusion matrix, without normalization')\n",
    "\n",
    "# Plot normalized confusion matrix\n",
    "plt.figure()\n",
    "plot_confusion_matrix(cnf_matrix, classes=class_names, normalize=True,\n",
    "                      title='Normalized confusion matrix')\n",
    "\n",
    "plt.show()"
   ]
  },
  {
   "cell_type": "code",
   "execution_count": 19,
   "metadata": {
    "collapsed": true
   },
   "outputs": [
    {
     "name": "stdout",
     "output_type": "stream",
     "text": [
      "Confusion matrix, without normalization\n",
      "[[15]]\n",
      "Normalized confusion matrix\n",
      "[[ 1.]]\n"
     ]
    },
    {
     "data": {
      "image/png": "[encoded data removed]",
      "text/plain": [
       "<matplotlib.figure.Figure at 0x1f3b5d30>"
      ]
     },
     "metadata": {},
     "output_type": "display_data"
    },
    {
     "data": {
      "image/png": "[encoded data removed]",
      "text/plain": [
       "<matplotlib.figure.Figure at 0x1f3a7710>"
      ]
     },
     "metadata": {},
     "output_type": "display_data"
    }
   ],
   "source": [
    "from sklearn import datasets\n",
    "from sklearn import tree\n",
    "\n",
    "# C-2 Decision Tree Skema split train 90% test 10%\n",
    "\n",
    "iris = datasets.load_iris()\n",
    "# import data training (90% from total)\n",
    "X_train = iris.data[0:135]\n",
    "Y_train = iris.target[0:135]\n",
    "X_test = iris.data[135:150]\n",
    "Y_test = iris.target[135:150]\n",
    "\n",
    "iris = datasets.load_iris()\n",
    "class_names = iris.target_names\n",
    "\n",
    "classifier = tree.DecisionTreeClassifier()\n",
    "y_pred = classifier.fit(X_train, y_train).predict(X_test)\n",
    "cnf_matrix = confusion_matrix(y_test, y_pred)\n",
    "np.set_printoptions(precision=2)\n",
    "\n",
    "plt.figure()\n",
    "plot_confusion_matrix(cnf_matrix, classes=class_names,\n",
    "                      title='Confusion matrix, without normalization')\n",
    "\n",
    "plt.figure()\n",
    "plot_confusion_matrix(cnf_matrix, classes=class_names, normalize=True,\n",
    "                      title='Normalized confusion matrix')\n",
    "\n",
    "plt.show()"
   ]
  },
  {
   "cell_type": "code",
   "execution_count": 20,
   "metadata": {
    "collapsed": true
   },
   "outputs": [
    {
     "name": "stdout",
     "output_type": "stream",
     "text": [
      "Score = 1.0\n",
      "\n",
      "Confusion matrix, without normalization\n",
      "[[15]]\n",
      "Normalized confusion matrix\n",
      "[[ 1.]]\n"
     ]
    },
    {
     "data": {
      "image/png": "[encoded data removed]",
      "text/plain": [
       "<matplotlib.figure.Figure at 0x1effcf28>"
      ]
     },
     "metadata": {},
     "output_type": "display_data"
    },
    {
     "data": {
      "image/png": "[encoded data removed]",
      "text/plain": [
       "<matplotlib.figure.Figure at 0x1f0144e0>"
      ]
     },
     "metadata": {},
     "output_type": "display_data"
    }
   ],
   "source": [
    "from sklearn.neighbors import KNeighborsClassifier\n",
    "from sklearn import datasets\n",
    "import itertools\n",
    "import numpy as np\n",
    "import matplotlib.pyplot as plt\n",
    "from sklearn import datasets\n",
    "from sklearn.model_selection import train_test_split\n",
    "from sklearn.metrics import confusion_matrix\n",
    "\n",
    "# C-3 kNN Skema split train 90% test 10%\n",
    "X_train = iris.data[0:135]\n",
    "X_test = iris.data[135:150]\n",
    "y_train = iris.target[0:135]\n",
    "y_test = iris.target[135:150]\n",
    "\n",
    "knn = KNeighborsClassifier()\n",
    "y_pred = knn.fit(X_train, y_train).predict(X_test)\n",
    "print('Score = %s\\n' % (knn.fit(X_train, Y_train).score(X_test, Y_test)))\n",
    "\n",
    "iris = datasets.load_iris()\n",
    "class_names = iris.target_names\n",
    "\n",
    "# Split the data into a training set and a test set\n",
    "X_train = iris.data[0:135]\n",
    "X_test = iris.data[135:150]\n",
    "y_train = iris.target[0:135]\n",
    "y_test = iris.target[135:150]\n",
    "\n",
    "classifier = KNeighborsClassifier()\n",
    "y_pred = classifier.fit(X_train, y_train).predict(X_test)\n",
    "cnf_matrix = confusion_matrix(y_test, y_pred)\n",
    "np.set_printoptions(precision=2)\n",
    "\n",
    "plt.figure()\n",
    "plot_confusion_matrix(cnf_matrix, classes=class_names,\n",
    "                      title='Confusion matrix, without normalization')\n",
    "\n",
    "plt.figure()\n",
    "plot_confusion_matrix(cnf_matrix, classes=class_names, normalize=True,\n",
    "                      title='Normalized confusion matrix')\n",
    "\n",
    "plt.show()"
   ]
  },
  {
   "cell_type": "code",
   "execution_count": 21,
   "metadata": {
    "collapsed": true
   },
   "outputs": [
    {
     "name": "stdout",
     "output_type": "stream",
     "text": [
      "Score = 1.0\n",
      "\n",
      "Confusion matrix, without normalization\n",
      "[[15]]\n",
      "Normalized confusion matrix\n",
      "[[ 1.]]\n"
     ]
    },
    {
     "data": {
      "image/png": "[encoded data removed]",
      "text/plain": [
       "<matplotlib.figure.Figure at 0x1efc84a8>"
      ]
     },
     "metadata": {},
     "output_type": "display_data"
    },
    {
     "data": {
      "image/png": "[encoded data removed]",
      "text/plain": [
       "<matplotlib.figure.Figure at 0x1fc66ef0>"
      ]
     },
     "metadata": {},
     "output_type": "display_data"
    }
   ],
   "source": [
    "import itertools\n",
    "import numpy as np\n",
    "import matplotlib.pyplot as plt\n",
    "from sklearn import datasets\n",
    "from sklearn.metrics import confusion_matrix\n",
    "from sklearn.neural_network import MLPClassifier\n",
    "\n",
    "# C-4 Neural Network MLP Skema split train 90% test 10%\n",
    "\n",
    "iris = datasets.load_iris()\n",
    "clf = MLPClassifier(solver='lbfgs', alpha=1e-5, hidden_layer_sizes=(10,), random_state=1)\n",
    "class_names = iris.target_names\n",
    "\n",
    "X_train = iris.data[0:135]\n",
    "y_train = iris.target[0:135]\n",
    "X_test = iris.data[135:150]\n",
    "y_test = iris.target[135:150]\n",
    "\n",
    "y_predict = clf.fit(X_train, y_train).predict(X_test)\n",
    "\n",
    "print('Score = %s\\n' % (clf.fit(X_train, y_train).score(X_test, y_test)))\n",
    "\n",
    "cnf_matrix = confusion_matrix(y_test, y_predict)\n",
    "np.set_printoptions(precision=2)\n",
    "\n",
    "plt.figure()\n",
    "plot_confusion_matrix(cnf_matrix, classes=class_names,\n",
    "                      title='Confusion matrix, without normalization')\n",
    "\n",
    "plt.figure()\n",
    "plot_confusion_matrix(cnf_matrix, classes=class_names, normalize=True,\n",
    "                      title='Normalized confusion matrix')\n",
    "\n",
    "plt.show()"
   ]
  },
  {
   "cell_type": "code",
   "execution_count": 22,
   "metadata": {},
   "outputs": [
    {
     "name": "stdout",
     "output_type": "stream",
     "text": [
      "Scores Fold 1 = 1.0\n",
      "Scores Fold 2 = 1.0\n",
      "Scores Fold 3 = 1.0\n",
      "Scores Fold 4 = 0.933333333333\n",
      "Scores Fold 5 = 0.933333333333\n",
      "Scores Fold 6 = 0.866666666667\n",
      "Scores Fold 7 = 1.0\n",
      "Scores Fold 8 = 0.866666666667\n",
      "Scores Fold 9 = 0.866666666667\n",
      "Scores Fold 10 = 1.0\n"
     ]
    }
   ],
   "source": [
    "from sklearn import datasets\n",
    "from sklearn.naive_bayes import GaussianNB\n",
    "from sklearn.model_selection import KFold, cross_val_score\n",
    "\n",
    "# D-1 Gaussian Naive Bayes Skema 10-fold cross validation\n",
    "\n",
    "iris = datasets.load_iris()\n",
    "gnb = GaussianNB()\n",
    "k_fold = KFold(n_splits=10)\n",
    "\n",
    "i = 1\n",
    "for train, test in k_fold.split(iris.data):\n",
    "    scores = gnb.fit(iris.data[train], iris.target[train]).score(iris.data[test], iris.target[test])\n",
    "    print('Scores Fold %s = %s' % (i, scores))\n",
    "    i += 1"
   ]
  },
  {
   "cell_type": "code",
   "execution_count": 27,
   "metadata": {},
   "outputs": [
    {
     "name": "stdout",
     "output_type": "stream",
     "text": [
      "Scores Fold 1 = 1.0\n",
      "Scores Fold 2 = 1.0\n",
      "Scores Fold 3 = 1.0\n",
      "Scores Fold 4 = 1.0\n",
      "Scores Fold 5 = 0.933333333333\n",
      "Scores Fold 6 = 0.866666666667\n",
      "Scores Fold 7 = 1.0\n",
      "Scores Fold 8 = 0.866666666667\n",
      "Scores Fold 9 = 0.933333333333\n",
      "Scores Fold 10 = 1.0\n"
     ]
    }
   ],
   "source": [
    "from sklearn import datasets\n",
    "from sklearn.tree import DecisionTreeClassifier\n",
    "from sklearn.model_selection import KFold, cross_val_score\n",
    "\n",
    "# D-2 Decision Tree Skema 10-fold cross validation\n",
    "iris = datasets.load_iris()\n",
    "neigh = DecisionTreeClassifier()\n",
    "k_fold = KFold(n_splits=10)\n",
    "i = 1\n",
    "for train, test in k_fold.split(iris.data):\n",
    "    scores = neigh.fit(iris.data[train], iris.target[train]).score(iris.data[test], iris.target[test])\n",
    "    print('Scores Fold %s = %s' % (i, scores))\n",
    "    i += 1"
   ]
  },
  {
   "cell_type": "code",
   "execution_count": 28,
   "metadata": {},
   "outputs": [
    {
     "name": "stdout",
     "output_type": "stream",
     "text": [
      "Scores Fold 1 = 1.0\n",
      "Scores Fold 2 = 1.0\n",
      "Scores Fold 3 = 1.0\n",
      "Scores Fold 4 = 1.0\n",
      "Scores Fold 5 = 0.8\n",
      "Scores Fold 6 = 0.866666666667\n",
      "Scores Fold 7 = 1.0\n",
      "Scores Fold 8 = 0.866666666667\n",
      "Scores Fold 9 = 0.8\n",
      "Scores Fold 10 = 1.0\n"
     ]
    }
   ],
   "source": [
    "from sklearn import datasets\n",
    "from sklearn.neighbors import KNeighborsClassifier\n",
    "from sklearn.model_selection import KFold, cross_val_score\n",
    "\n",
    "# D-3 kNN Skema 10-fold cross validation\n",
    "\n",
    "#K-Nearest Neighbors\n",
    "#Skema 10-fold cross validation\n",
    "iris = datasets.load_iris()\n",
    "neigh = KNeighborsClassifier()\n",
    "k_fold = KFold(n_splits=10)\n",
    "i = 1\n",
    "for train, test in k_fold.split(iris.data):\n",
    "    scores = neigh.fit(iris.data[train], iris.target[train]).score(iris.data[test], iris.target[test])\n",
    "    print('Scores Fold %s = %s' % (i, scores))\n",
    "    i += 1"
   ]
  },
  {
   "cell_type": "code",
   "execution_count": 25,
   "metadata": {},
   "outputs": [
    {
     "name": "stdout",
     "output_type": "stream",
     "text": [
      "Scores Fold 1 = 1.0\n",
      "Scores Fold 2 = 1.0\n",
      "Scores Fold 3 = 1.0\n",
      "Scores Fold 4 = 1.0\n",
      "Scores Fold 5 = 0.933333333333\n",
      "Scores Fold 6 = 0.933333333333\n",
      "Scores Fold 7 = 1.0\n",
      "Scores Fold 8 = 0.933333333333\n",
      "Scores Fold 9 = 0.666666666667\n",
      "Scores Fold 10 = 1.0\n"
     ]
    }
   ],
   "source": [
    "from sklearn import datasets\n",
    "from sklearn.neural_network import MLPClassifier\n",
    "from sklearn.model_selection import KFold, cross_val_score\n",
    "\n",
    "# D-4 Neural Network MLP Skema 10-fold cross validation\n",
    "\n",
    "iris = datasets.load_iris()\n",
    "clf = MLPClassifier(solver='lbfgs', alpha=1e-5, hidden_layer_sizes=(10,), random_state=1)\n",
    "k_fold = KFold(n_splits=10)\n",
    "\n",
    "i = 1\n",
    "for train, test in k_fold.split(iris.data):\n",
    "    scores = clf.fit(iris.data[train], iris.target[train]).score(iris.data[test], iris.target[test])\n",
    "    print('Scores Fold %s = %s' % (i, scores))\n",
    "    i += 1"
   ]
  },
  {
   "cell_type": "code",
   "execution_count": 29,
   "metadata": {},
   "outputs": [
    {
     "data": {
      "text/plain": [
       "['model.pkl']"
      ]
     },
     "execution_count": 29,
     "metadata": {},
     "output_type": "execute_result"
    }
   ],
   "source": [
    "from sklearn.externals import joblib\n",
    "from sklearn import datasets\n",
    "from sklearn.naive_bayes import GaussianNB\n",
    "\n",
    "# E. Menyimpan model pembelajaran ke dalam file eksternal\n",
    "\n",
    "iris = datasets.load_iris()\n",
    "gnb = GaussianNB()\n",
    "#Training using naive bayes\n",
    "fit_gnb = gnb.fit(iris.data, iris.target)\n",
    "#Dump model\n",
    "joblib.dump(fit_gnb, 'model.pkl')"
   ]
  },
  {
   "cell_type": "code",
   "execution_count": 30,
   "metadata": {},
   "outputs": [
    {
     "name": "stdout",
     "output_type": "stream",
     "text": [
      "Score = 0.96\n"
     ]
    }
   ],
   "source": [
    "from sklearn.externals import joblib\n",
    "from sklearn import datasets\n",
    "from sklearn.naive_bayes import GaussianNB\n",
    "\n",
    "# F. Membaca model pembelajaran dari file eksternal\n",
    "\n",
    "#Import dump model\n",
    "fit = joblib.load('model.pkl')\n",
    "y_predict = fit.predict(iris.data)\n",
    "print('Score = %s' % (fit.score(iris.data, iris.target)))"
   ]
  },
  {
   "cell_type": "code",
   "execution_count": 9,
   "metadata": {},
   "outputs": [
    {
     "name": "stdout",
     "output_type": "stream",
     "text": [
      "[5.0, 3.0, 2.0, 4.0]\n"
     ]
    }
   ],
   "source": [
    "\n",
    "# G. Membuat instance baru\n",
    "\n",
    "instance = [5.0, 4.0, 2.0, 3.0]\n",
    "\n",
    "print instance"
   ]
  },
  {
   "cell_type": "code",
   "execution_count": 15,
   "metadata": {},
   "outputs": [
    {
     "name": "stdout",
     "output_type": "stream",
     "text": [
      "Hasil Klasifikasi = [2]\n",
      "Hasil Klasifikasi = [2]\n",
      "Hasil Klasifikasi = [1]\n",
      "Hasil Klasifikasi = [2]\n"
     ]
    }
   ],
   "source": [
    "newinstance = [instance]\n",
    "\n",
    "# H. Melakukan klasifikasi instance baru dengan NaiveBayes, Decision Tree, kNN\n",
    "\n",
    "#Hasil klasifikasi NaiveBayes untuk instans baru\n",
    "print ('Hasil Klasifikasi = %s' % (fit1_gnb.predict(newinstance)))\n",
    "\n",
    "#Hasil klasifikasi Decisiontree untuk instans baru\n",
    "print ('Hasil Klasifikasi = %s' % (clf2.predict(newinstance)))\n",
    "\n",
    "#Hasil klasifikasi kNN untuk instans baru\n",
    "print ('Hasil Klasifikasi = %s' % (neigh3.predict(newinstance)))\n",
    "\n",
    "#Hasil klasifikasi MLP untuk instans baru\n",
    "print ('Hasil Klasifikasi = %s' % (fit4_MLP.predict(newinstance)))"
   ]
  }
 ],
 "metadata": {
  "celltoolbar": "Raw Cell Format",
  "kernelspec": {
   "display_name": "Python 2",
   "language": "python",
   "name": "python2"
  },
  "language_info": {
   "codemirror_mode": {
    "name": "ipython",
    "version": 2
   },
   "file_extension": ".py",
   "mimetype": "text/x-python",
   "name": "python",
   "nbconvert_exporter": "python",
   "pygments_lexer": "ipython2",
   "version": "2.7"
  }
 },
 "nbformat": 4,
 "nbformat_minor": 2
}
