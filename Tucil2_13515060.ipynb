{
 "cells": [
  {
   "cell_type": "code",
   "execution_count": null,
   "metadata": {},
   "outputs": [],
   "source": [
    "from sklearn import datasets\n",
    "import pandas as pd\n",
    "\n",
    "# A. Membaca Dataset Iris dan Playtennis\n",
    "\n",
    "iris = datasets.load_iris()\n",
    "reader = pd.read_csv('playtennis.csv')\n",
    "\n",
    "print iris.data\n",
    "print reader"
   ]
  },
  {
   "cell_type": "code",
   "execution_count": null,
   "metadata": {},
   "outputs": [],
   "source": [
    "from sklearn import datasets\n",
    "from sklearn.naive_bayes import GaussianNB\n",
    "\n",
    "# B-1. Gaussian Naive Bayes (Naive Bayes) Skema full training\n",
    "\n",
    "iris = datasets.load_iris()\n",
    "gnb = GaussianNB()\n",
    "#Training using naive bayes\n",
    "fit_gnb = gnb.fit(iris.data, iris.target)\n",
    "y_predict = fit_gnb.predict(iris.data)\n",
    "\n",
    "#print fit_gnb.score(iris.data, iris.target)"
   ]
  },
  {
   "cell_type": "code",
   "execution_count": null,
   "metadata": {},
   "outputs": [],
   "source": [
    "\n",
    "\n",
    "# B-2. Decision Tree Skema full training\n"
   ]
  },
  {
   "cell_type": "code",
   "execution_count": null,
   "metadata": {},
   "outputs": [],
   "source": [
    "\n",
    "\n",
    "# B-3. kNN Skema full training\n"
   ]
  },
  {
   "cell_type": "code",
   "execution_count": null,
   "metadata": {},
   "outputs": [],
   "source": [
    "from sklearn import datasets\n",
    "from sklearn.neural_network import MLPClassifier\n",
    "\n",
    "# B-4. Neural Network MLP Skema full training\n",
    "\n",
    "iris = datasets.load_iris()\n",
    "clf = MLPClassifier(solver='lbfgs', alpha=1e-5, hidden_layer_sizes=(10,), random_state=1)\n",
    "fit_MLP = clf.fit(iris.data, iris.target)\n",
    "y_predict = fit_MLP.predict(iris.data)\n",
    "\n",
    "#print('Score = %s' % (fit_MLP.score(iris.data, iris.target)))"
   ]
  },
  {
   "cell_type": "code",
   "execution_count": null,
   "metadata": {
    "scrolled": false
   },
   "outputs": [],
   "source": [
    "import itertools\n",
    "import numpy as np\n",
    "import matplotlib.pyplot as plt\n",
    "from sklearn import datasets\n",
    "from sklearn.metrics import confusion_matrix\n",
    "from sklearn.naive_bayes import GaussianNB\n",
    "\n",
    "# C-1. Gaussian Naive Bayes (Naive Bayes) Skema split train 90% test 10%\n",
    "\n",
    "def plot_confusion_matrix(cm, classes,\n",
    "                          normalize=False,\n",
    "                          title='Confusion matrix',\n",
    "                          cmap=plt.cm.Blues):\n",
    "    \"\"\"\n",
    "    This function prints and plots the confusion matrix.\n",
    "    Normalization can be applied by setting `normalize=True`.\n",
    "    \"\"\"\n",
    "    if normalize:\n",
    "        cm = cm.astype('float') / cm.sum(axis=1)[:, np.newaxis]\n",
    "        print(\"Normalized confusion matrix\")\n",
    "    else:\n",
    "        print('Confusion matrix, without normalization')\n",
    "\n",
    "    print(cm)\n",
    "\n",
    "    plt.imshow(cm, interpolation='nearest', cmap=cmap)\n",
    "    plt.title(title)\n",
    "    plt.colorbar()\n",
    "    tick_marks = np.arange(len(classes))\n",
    "    plt.xticks(tick_marks, classes, rotation=45)\n",
    "    plt.yticks(tick_marks, classes)\n",
    "\n",
    "    fmt = '.2f' if normalize else 'd'\n",
    "    thresh = cm.max() / 2.\n",
    "    for i, j in itertools.product(range(cm.shape[0]), range(cm.shape[1])):\n",
    "        plt.text(j, i, format(cm[i, j], fmt),\n",
    "                 horizontalalignment=\"center\",\n",
    "                 color=\"white\" if cm[i, j] > thresh else \"black\")\n",
    "\n",
    "    plt.tight_layout()\n",
    "    plt.ylabel('True label')\n",
    "    plt.xlabel('Predicted label')\n",
    "\n",
    "#Import data\n",
    "#Gaussian Naive Bayes (Naive Bayes)\n",
    "#Skema 90% train, 10% test\n",
    "iris = datasets.load_iris()\n",
    "gnb = GaussianNB()\n",
    "class_names = iris.target_names\n",
    "\n",
    "#Training using naive bayes\n",
    "X_train = iris.data[0:135]\n",
    "y_train = iris.target[0:135]\n",
    "X_test = iris.data[135:150]\n",
    "y_test = iris.target[135:150]\n",
    "\n",
    "y_predict = gnb.fit(X_train, y_train).predict(X_test)\n",
    "\n",
    "print('Score = %s\\n' % (gnb.fit(X_train, y_train).score(X_test, y_test)))\n",
    "#print(gnb.fit(X_train, y_train).score(X_test, y_test))\n",
    "\n",
    "cnf_matrix = confusion_matrix(y_test, y_predict)\n",
    "np.set_printoptions(precision=2)\n",
    "\n",
    "# Plot non-normalized confusion matrix\n",
    "plt.figure()\n",
    "plot_confusion_matrix(cnf_matrix, classes=class_names,\n",
    "                      title='Confusion matrix, without normalization')\n",
    "\n",
    "# Plot normalized confusion matrix\n",
    "plt.figure()\n",
    "plot_confusion_matrix(cnf_matrix, classes=class_names, normalize=True,\n",
    "                      title='Normalized confusion matrix')\n",
    "\n",
    "plt.show()"
   ]
  },
  {
   "cell_type": "code",
   "execution_count": null,
   "metadata": {
    "scrolled": true
   },
   "outputs": [],
   "source": [
    "\n",
    "\n",
    "# C-2 Decision Tree Skema split train 90% test 10%\n"
   ]
  },
  {
   "cell_type": "code",
   "execution_count": null,
   "metadata": {},
   "outputs": [],
   "source": [
    "\n",
    "\n",
    "# C-3 kNN Skema split train 90% test 10%\n"
   ]
  },
  {
   "cell_type": "code",
   "execution_count": null,
   "metadata": {},
   "outputs": [],
   "source": [
    "import itertools\n",
    "import numpy as np\n",
    "import matplotlib.pyplot as plt\n",
    "from sklearn import datasets\n",
    "from sklearn.metrics import confusion_matrix\n",
    "from sklearn.neural_network import MLPClassifier\n",
    "\n",
    "# C-4 Neural Network MLP Skema split train 90% test 10%\n",
    "\n",
    "iris = datasets.load_iris()\n",
    "clf = MLPClassifier(solver='lbfgs', alpha=1e-5, hidden_layer_sizes=(10,), random_state=1)\n",
    "class_names = iris.target_names\n",
    "\n",
    "X_train = iris.data[0:135]\n",
    "y_train = iris.target[0:135]\n",
    "X_test = iris.data[135:150]\n",
    "y_test = iris.target[135:150]\n",
    "\n",
    "y_predict = clf.fit(X_train, y_train).predict(X_test)\n",
    "\n",
    "print('Score = %s\\n' % (gnb.fit(X_train, y_train).score(X_test, y_test)))\n",
    "#print(clf.fit(X_train, y_train).score(X_test, y_test))\n",
    "\n",
    "cnf_matrix = confusion_matrix(y_test, y_predict)\n",
    "np.set_printoptions(precision=2)\n",
    "\n",
    "# Plot non-normalized confusion matrix\n",
    "plt.figure()\n",
    "plot_confusion_matrix(cnf_matrix, classes=class_names,\n",
    "                      title='Confusion matrix, without normalization')\n",
    "\n",
    "# Plot normalized confusion matrix\n",
    "plt.figure()\n",
    "plot_confusion_matrix(cnf_matrix, classes=class_names, normalize=True,\n",
    "                      title='Normalized confusion matrix')\n",
    "\n",
    "plt.show()"
   ]
  },
  {
   "cell_type": "code",
   "execution_count": null,
   "metadata": {},
   "outputs": [],
   "source": [
    "from sklearn import datasets\n",
    "from sklearn.naive_bayes import GaussianNB\n",
    "from sklearn.model_selection import KFold, cross_val_score\n",
    "\n",
    "# D-1 Gaussian Naive Bayes Skema 10-fold cross validation\n",
    "\n",
    "iris = datasets.load_iris()\n",
    "gnb = GaussianNB()\n",
    "k_fold = KFold(n_splits=10)\n",
    "\n",
    "i = 1\n",
    "for train, test in k_fold.split(iris.data):\n",
    "    scores = gnb.fit(iris.data[train], iris.target[train]).score(iris.data[test], iris.target[test])\n",
    "    print('Scores Fold %s = %s' % (i, scores))\n",
    "    i += 1"
   ]
  },
  {
   "cell_type": "code",
   "execution_count": null,
   "metadata": {},
   "outputs": [],
   "source": [
    "\n",
    "\n",
    "# D-2 Decision Tree Skema 10-fold cross validation\n"
   ]
  },
  {
   "cell_type": "code",
   "execution_count": null,
   "metadata": {},
   "outputs": [],
   "source": [
    "\n",
    "\n",
    "# D-3 kNN Skema 10-fold cross validation\n"
   ]
  },
  {
   "cell_type": "code",
   "execution_count": null,
   "metadata": {},
   "outputs": [],
   "source": [
    "from sklearn import datasets\n",
    "from sklearn.neural_network import MLPClassifier\n",
    "from sklearn.model_selection import KFold, cross_val_score\n",
    "\n",
    "# D-4 Neural Network MLP Skema 10-fold cross validation\n",
    "\n",
    "iris = datasets.load_iris()\n",
    "clf = MLPClassifier(solver='lbfgs', alpha=1e-5, hidden_layer_sizes=(10,), random_state=1)\n",
    "k_fold = KFold(n_splits=10)\n",
    "\n",
    "i = 1\n",
    "for train, test in k_fold.split(iris.data):\n",
    "    scores = clf.fit(iris.data[train], iris.target[train]).score(iris.data[test], iris.target[test])\n",
    "    print('Scores Fold %s = %s' % (i, scores))\n",
    "    i += 1"
   ]
  },
  {
   "cell_type": "code",
   "execution_count": null,
   "metadata": {},
   "outputs": [],
   "source": [
    "from sklearn.externals import joblib\n",
    "from sklearn import datasets\n",
    "from sklearn.naive_bayes import GaussianNB\n",
    "\n",
    "# E. Menyimpan model pembelajaran ke dalam file eksternal\n",
    "\n",
    "iris = datasets.load_iris()\n",
    "gnb = GaussianNB()\n",
    "#Training using naive bayes\n",
    "fit_gnb = gnb.fit(iris.data, iris.target)\n",
    "#Dump model\n",
    "joblib.dump(fit_gnb, 'model.pkl')"
   ]
  },
  {
   "cell_type": "code",
   "execution_count": null,
   "metadata": {},
   "outputs": [],
   "source": [
    "from sklearn.externals import joblib\n",
    "from sklearn import datasets\n",
    "from sklearn.naive_bayes import GaussianNB\n",
    "\n",
    "# F. Membaca model pembelajaran dari file eksternal\n",
    "\n",
    "#Import dump model\n",
    "fit = joblib.load('model.pkl')\n",
    "y_predict = fit.predict(iris.data)\n",
    "print('Score = %s' % (fit.score(iris.data, iris.target)))"
   ]
  },
  {
   "cell_type": "code",
   "execution_count": null,
   "metadata": {},
   "outputs": [],
   "source": []
  },
  {
   "cell_type": "code",
   "execution_count": null,
   "metadata": {},
   "outputs": [],
   "source": []
  }
 ],
 "metadata": {
  "kernelspec": {
   "display_name": "Python 2",
   "language": "python",
   "name": "python2"
  },
  "language_info": {
   "codemirror_mode": {
    "name": "ipython",
    "version": 2
   },
   "file_extension": ".py",
   "mimetype": "text/x-python",
   "name": "python",
   "nbconvert_exporter": "python",
   "pygments_lexer": "ipython2",
   "version": "2.7"
  }
 },
 "nbformat": 4,
 "nbformat_minor": 2
}
